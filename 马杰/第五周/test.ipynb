import numpy as np
import matplotlib.pyplot as plt
import math

def gaussian_filter(sigma, dim):
    """生成高斯核"""
    tmp = [i - dim // 2 for i in range(dim)]
    n1 = 1 / (2 * math.pi * sigma ** 2)
    n2 = -1 / (2 * sigma ** 2)
    Gaussian_filter = np.array([[n1 * math.exp(n2 * (tmp[i] ** 2 + tmp[j] ** 2)) for j in range(dim)] for i in range(dim)])
    return Gaussian_filter / Gaussian_filter.sum()

def apply_filter(img, kernel):
    """应用滤波器"""
    dx, dy = img.shape
    dim = kernel.shape[0]
    tmp = dim // 2
    img_pad = np.pad(img, ((tmp, tmp), (tmp, tmp)), 'constant')
    img_new = np.zeros(img.shape)
    for i in range(dx):
        for j in range(dy):
            img_new[i, j] = np.sum(img_pad[i:i + dim, j:j + dim] * kernel)
    
    plt.subplot(141)
    plt.title('Gaussian Smoothed')
    plt.imshow(img_new.astype(np.uint8), cmap='gray')  # 此时的img_new是255的浮点型数据，强制类型转换才可以，gray灰阶
    plt.axis('off')
    
    return img_new

def sobel_filter(img, sobel_kernel_x, sobel_kernel_y):
    """计算梯度幅值和角度"""
    dx, dy = img.shape
    img_pad = np.pad(img, ((1, 1), (1, 1)), 'constant')
    img_tidu_x = np.zeros(img.shape)
    img_tidu_y = np.zeros(img.shape)
    img_tidu = np.zeros(img.shape)
    for i in range(dx):
        for j in range(dy):
            img_tidu_x[i, j] = np.sum(img_pad[i:i + 3, j:j + 3] * sobel_kernel_x)
            img_tidu_y[i, j] = np.sum(img_pad[i:i + 3, j:j + 3] * sobel_kernel_y)
            img_tidu[i, j] = np.sqrt(img_tidu_x[i, j] ** 2 + img_tidu_y[i, j] ** 2)
    angle = np.arctan2(img_tidu_y, img_tidu_x + 0.00000001)
    
    plt.subplot(142)
    plt.title('Gradient Magnitude')
    plt.imshow(img_tidu.astype(np.uint8),cmap='gray')
    plt.axis('off')
    
    return img_tidu, angle

def non_max_suppression(img_tidu, angle):
    """非极大值抑制"""
    dx, dy = img_tidu.shape
    img_yizhi = np.zeros(img_tidu.shape)
    for i in range(1, dx - 1):
        for j in range(1, dy - 1):
            temp = img_tidu[i - 1:i + 2, j - 1:j + 2]
            direction = angle[i, j]
            flag = False

            if np.abs(direction) <= np.pi / 8 or np.abs(direction) > 7 * np.pi / 8:
                flag = img_tidu[i, j] > max(temp[1, 0], temp[1, 2])
            elif np.pi / 8 < np.abs(direction) <= 3 * np.pi / 8:
                flag = img_tidu[i, j] > max(temp[0, 2], temp[2, 0])
            elif 3 * np.pi / 8 < np.abs(direction) <= 5 * np.pi / 8:
                flag = img_tidu[i, j] > max(temp[0, 1], temp[2, 1])
            else:
                flag = img_tidu[i, j] > max(temp[0, 0], temp[2, 2])

            if flag:
                img_yizhi[i, j] = img_tidu[i, j]
                
    plt.subplot(143)
    plt.title('Non-Maximum Suppression')
    plt.imshow(img_yizhi.astype(np.uint8),cmap='gray')
    plt.axis('off')
    
    return img_yizhi

def double_threshold(img_tidu, img_yizhi):
    dx, dy = img_yizhi.shape
    """双阈值检测与边缘连接"""
    lower_boundary = img_tidu.mean() * 0.5
    high_boundary = lower_boundary * 3
    zhan = []
    for i in range(1, img_yizhi.shape[0] - 1):
        for j in range(1, img_yizhi.shape[1] - 1):
            if img_yizhi[i, j] >= high_boundary:
                img_yizhi[i, j] = 255
                zhan.append([i, j])
            elif img_yizhi[i, j] <= lower_boundary:
                img_yizhi[i, j] = 0

    while zhan:
        temp_1, temp_2 = zhan.pop()
        for i in range(-1, 2):
            for j in range(-1, 2):
                if lower_boundary < img_yizhi[temp_1 + i, temp_2 + j] < high_boundary:
                    img_yizhi[temp_1 + i, temp_2 + j] = 255
                    zhan.append([temp_1 + i, temp_2 + j])

    for i in range(dx):
        for j in range(dy):
            if img_yizhi[i, j] != 255 and img_yizhi[i, j] != 0:
                img_yizhi[i, j] = 0
    
    return img_yizhi

# 主流程
pic_path = 'data/lenna.png' 
img = plt.imread(pic_path)
if pic_path.endswith('.png'):
    img = img * 255
img = img.mean(axis=-1)

# 1、高斯平滑
sigma = 0.5
dim = 5
Gaussian_filter = gaussian_filter(sigma, dim)
img_smoothed = apply_filter(img, Gaussian_filter)

# 2、求梯度
sobel_kernel_x = np.array([[-1, 0, 1], [-2, 0, 2], [-1, 0, 1]])
sobel_kernel_y = np.array([[1, 2, 1], [0, 0, 0], [-1, -2, -1]])
img_tidu, angle = sobel_filter(img_smoothed, sobel_kernel_x, sobel_kernel_y)

# 3、非极大值抑制
img_yizhi = non_max_suppression(img_tidu, angle)

# 4、双阈值检测与边缘连接
img_final = double_threshold(img_tidu, img_yizhi)

# 绘图
plt.subplot(144)
plt.title('Final Edge Detection')
plt.imshow(img_final.astype(np.uint8), cmap='gray')
plt.axis('off')
plt.show()
